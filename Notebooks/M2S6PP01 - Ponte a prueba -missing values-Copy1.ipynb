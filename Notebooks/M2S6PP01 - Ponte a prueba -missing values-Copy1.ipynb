{
 "cells": [
  {
   "cell_type": "markdown",
   "metadata": {},
   "source": [
    "## Missing values\n",
    "\n",
    "### 1. Objetivos:\n",
    "    - Aprender a determinar el número de variables con valores faltantes (missing values) \n",
    " \n",
    "---\n",
    "    \n",
    "### 2. Desarrollo:"
   ]
  },
  {
   "cell_type": "markdown",
   "metadata": {},
   "source": [
    "Vamos a utilizar un conjunto de datos llamado 'videogame_sales-raw'. Este dataset tiene datos acerca de ventas de videojuegos. Incluye datos acerca del genero, ranking y ventas a nivel global."
   ]
  },
  {
   "cell_type": "code",
   "execution_count": 7,
   "metadata": {},
   "outputs": [],
   "source": [
    "# Lee aquí tu dataset\n",
    "#\n",
    "# Si creen necesario realizar una pequeña exploración antes de pasar a la siguiente sección, se puede llevar a cabo"
   ]
  },
  {
   "cell_type": "markdown",
   "metadata": {},
   "source": [
    "Vamos a explorar las variables que presentan valores faltantes. Para esto, genera tu tabla de completitud como lo hicimos en clase y contesta las siguientes preguntas.\n",
    "\n",
    "1. ¿Qué variables no tienen valores faltantes?\n",
    "2. ¿Qué variables tienen valores faltantes? ¿En que porcentaje?"
   ]
  }
 ],
 "metadata": {
  "kernelspec": {
   "display_name": "Python 3 (ipykernel)",
   "language": "python",
   "name": "python3"
  },
  "language_info": {
   "codemirror_mode": {
    "name": "ipython",
    "version": 3
   },
   "file_extension": ".py",
   "mimetype": "text/x-python",
   "name": "python",
   "nbconvert_exporter": "python",
   "pygments_lexer": "ipython3",
   "version": "3.9.12"
  }
 },
 "nbformat": 4,
 "nbformat_minor": 4
}
