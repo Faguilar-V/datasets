{
 "cells": [
  {
   "cell_type": "markdown",
   "metadata": {},
   "source": [
    "## Tipificado de datos e imputación\n",
    "\n",
    "### 1. Objetivos:\n",
    "    - Aprender a tipificar e imputar informacion\n",
    " \n",
    "---\n",
    "    \n",
    "### 2. Desarrollo:"
   ]
  },
  {
   "cell_type": "markdown",
   "metadata": {},
   "source": [
    "Vamos a utilizar un conjunto de datos llamado 'near_earth_objects-raw'. Este dataset fue tomado usando datos de la NASA y contiene información de objetos cercanos  a la tierra.\n",
    "\n",
    "Reliza un imputado de datos como se hizo durante la Uclass y cambia el tipado de dato a aqueyas variables que lo requieran."
   ]
  },
  {
   "cell_type": "code",
   "execution_count": 11,
   "metadata": {},
   "outputs": [],
   "source": [
    "# Lee aquí tu dataset\n",
    "#\n",
    "# Si creen necesario realizar una pequeña exploración antes de pasar a la siguiente sección, se puede llevar a cabo"
   ]
  },
  {
   "cell_type": "markdown",
   "metadata": {},
   "source": [
    "Una ves realizada la imputación, y teniendo el tipado de datos correcto contesta las siguientes preguntas:\n",
    "\n",
    "1. ¿Qué tamaño tenia y tiene ahora tu dataset?\n",
    "2. ¿Crees que el proceso de datos que hiciste fue el correcto? ¿Qué otra opción se te ocurre?"
   ]
  },
  {
   "cell_type": "code",
   "execution_count": null,
   "metadata": {},
   "outputs": [],
   "source": []
  }
 ],
 "metadata": {
  "kernelspec": {
   "display_name": "Python 3 (ipykernel)",
   "language": "python",
   "name": "python3"
  },
  "language_info": {
   "codemirror_mode": {
    "name": "ipython",
    "version": 3
   },
   "file_extension": ".py",
   "mimetype": "text/x-python",
   "name": "python",
   "nbconvert_exporter": "python",
   "pygments_lexer": "ipython3",
   "version": "3.9.12"
  }
 },
 "nbformat": 4,
 "nbformat_minor": 4
}
